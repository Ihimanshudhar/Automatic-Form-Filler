{
  "cells": [
    {
      "cell_type": "markdown",
      "metadata": {
        "id": "view-in-github",
        "colab_type": "text"
      },
      "source": [
        "<a href=\"https://colab.research.google.com/github/Ihimanshudhar/Automatic-Form-Filler/blob/main/neuralnetwork.ipynb\" target=\"_parent\"><img src=\"https://colab.research.google.com/assets/colab-badge.svg\" alt=\"Open In Colab\"/></a>"
      ]
    },
    {
      "cell_type": "code",
      "execution_count": 100,
      "metadata": {
        "id": "D2IiL_0bMMJU"
      },
      "outputs": [],
      "source": [
        "import pandas as pd\n",
        "import numpy as np\n",
        "import tensorflow as tf\n",
        "from tensorflow import keras\n",
        "from tensorflow.keras import layers\n",
        "from sklearn.model_selection import train_test_split\n",
        "from gensim.models import Word2Vec\n",
        "from sklearn.metrics import mean_absolute_error\n",
        "from tensorflow.keras.preprocessing.text import Tokenizer\n",
        "from tensorflow.keras.preprocessing.sequence import pad_sequences"
      ]
    },
    {
      "cell_type": "code",
      "source": [
        "train_data = pd.DataFrame({\n",
        "    \"review\": [\n",
        "         \"I absolutely loved it!\",\n",
        "         \"Terrible, would not recommend.\",\n",
        "         \"It was okay, not the best but not the worst.\",\n",
        "         \"Amazing film with superb acting.\",\n",
        "         \"Disappointing, a waste of time.\",\n",
        "         \"An outstanding masterpiece!\",\n",
        "         \"Mediocre at best.\",\n",
        "         \"A brilliant and engaging experience.\",\n",
        "         \"Not my cup of tea.\",\n",
        "         \"Simply fantastic.\"\n",
        "    ],\n",
        "    \"label\": [5.0, 1.0, 3.0, 4.5, 1.5, 5.0, 3.0, 4.0, 2.0, 5.0]\n",
        "})\n",
        "train_data.to_csv(\"train.csv\", index=False)\n",
        "\n",
        "# Step 2: Generate Sample Test Data\n",
        "test_data = pd.DataFrame({\n",
        "    \"review\": [\n",
        "         \"I absolutely loved it!\",\n",
        "         \"I loved the cinematography.\",\n",
        "         \"Worst experience ever.\",\n",
        "         \"Not bad, could be better.\",\n",
        "         \"Absolutely mind-blowing performance!\",\n",
        "         \"I did not like it.\"\n",
        "    ]\n",
        "})\n",
        "test_data.to_csv(\"test.csv\", index=False)"
      ],
      "metadata": {
        "id": "ef53wmq6l86Y"
      },
      "execution_count": 35,
      "outputs": []
    },
    {
      "cell_type": "code",
      "execution_count": 94,
      "metadata": {
        "id": "hYg1E3XOMMJY",
        "outputId": "fb947ba2-3a16-473e-8bba-77d8333aa049",
        "colab": {
          "base_uri": "https://localhost:8080/"
        }
      },
      "outputs": [
        {
          "output_type": "stream",
          "name": "stderr",
          "text": [
            "<ipython-input-94-c8e3170ef7ca>:3: FutureWarning: A value is trying to be set on a copy of a DataFrame or Series through chained assignment using an inplace method.\n",
            "The behavior will change in pandas 3.0. This inplace method will never work because the intermediate object on which we are setting values always behaves as a copy.\n",
            "\n",
            "For example, when doing 'df[col].method(value, inplace=True)', try using 'df.method({col: value}, inplace=True)' or df[col] = df[col].method(value) instead, to perform the operation inplace on the original object.\n",
            "\n",
            "\n",
            "  train_df[\"review\"].fillna(\"\", inplace=True)\n",
            "<ipython-input-94-c8e3170ef7ca>:4: FutureWarning: A value is trying to be set on a copy of a DataFrame or Series through chained assignment using an inplace method.\n",
            "The behavior will change in pandas 3.0. This inplace method will never work because the intermediate object on which we are setting values always behaves as a copy.\n",
            "\n",
            "For example, when doing 'df[col].method(value, inplace=True)', try using 'df.method({col: value}, inplace=True)' or df[col] = df[col].method(value) instead, to perform the operation inplace on the original object.\n",
            "\n",
            "\n",
            "  test_df[\"review\"].fillna(\"\", inplace=True)\n"
          ]
        }
      ],
      "source": [
        "train_df = pd.read_csv(\"train.csv\")\n",
        "test_df = pd.read_csv(\"test.csv\")\n",
        "train_df[\"review\"].fillna(\"\", inplace=True)\n",
        "test_df[\"review\"].fillna(\"\", inplace=True)\n",
        "\n",
        "X = train_df[\"review\"]\n",
        "y = train_df[\"label\"]"
      ]
    },
    {
      "cell_type": "code",
      "source": [
        "\n",
        "# Normalize labels to range [0,1]\n",
        "y = (y - 1) / 4.0\n"
      ],
      "metadata": {
        "id": "elHo4JaclCr1"
      },
      "execution_count": 95,
      "outputs": []
    },
    {
      "cell_type": "code",
      "source": [
        "tokenizer = Tokenizer()\n",
        "tokenizer.fit_on_texts(X)\n",
        "X_sequences = tokenizer.texts_to_sequences(X)\n",
        "X_test_sequences = tokenizer.texts_to_sequences(test_df[\"review\"])"
      ],
      "metadata": {
        "id": "t1RD5qDVoT2z"
      },
      "execution_count": 101,
      "outputs": []
    },
    {
      "cell_type": "code",
      "source": [
        "max_length = max(len(seq) for seq in X_sequences)\n",
        "X_padded = pad_sequences(X_sequences, maxlen=max_length, padding='post')\n",
        "X_test_padded = pad_sequences(X_test_sequences, maxlen=max_length, padding='post')"
      ],
      "metadata": {
        "id": "ghrCA4uIoevG"
      },
      "execution_count": 102,
      "outputs": []
    },
    {
      "cell_type": "code",
      "source": [
        "sentences = [review.split() for review in X]\n",
        "w2v_model = Word2Vec(sentences, vector_size=100, window=5, min_count=1, workers=4)\n",
        "embedding_matrix = np.zeros((len(tokenizer.word_index) + 1, 100))\n",
        "for word, i in tokenizer.word_index.items():\n",
        "    if word in w2v_model.wv:\n",
        "        embedding_matrix[i] = w2v_model.wv[word]\n",
        "\n",
        "X_train, X_val, y_train, y_val = train_test_split(X_padded, y, test_size=0.2, random_state=42)"
      ],
      "metadata": {
        "id": "xw_Wh9sgoiC6"
      },
      "execution_count": 103,
      "outputs": []
    },
    {
      "cell_type": "code",
      "source": [
        "models = {\n",
        "    \"model1\": keras.Sequential([\n",
        "        layers.Embedding(input_dim=len(tokenizer.word_index) + 1, output_dim=100, weights=[embedding_matrix], input_length=max_length, trainable=False),\n",
        "        layers.Conv1D(128, 5, activation='relu'),\n",
        "        layers.MaxPooling1D(pool_size=2),\n",
        "        layers.LSTM(64, return_sequences=True),\n",
        "        layers.LSTM(32),\n",
        "        layers.Dense(1, activation=\"tanh\")\n",
        "    ]),\n",
        "    \"model2\": keras.Sequential([\n",
        "        layers.Embedding(input_dim=len(tokenizer.word_index) + 1, output_dim=100, weights=[embedding_matrix], input_length=max_length, trainable=False),\n",
        "        layers.Bidirectional(layers.LSTM(64, return_sequences=True)),\n",
        "        layers.Bidirectional(layers.LSTM(32)),\n",
        "        layers.Dense(64, activation='relu'),\n",
        "        layers.Dense(1, activation=\"tanh\")\n",
        "    ]),\n",
        "    \"model3\": keras.Sequential([\n",
        "        layers.Embedding(input_dim=len(tokenizer.word_index) + 1, output_dim=100, weights=[embedding_matrix], input_length=max_length, trainable=True),\n",
        "        layers.Conv1D(64, 3, activation='relu'),\n",
        "        layers.MaxPooling1D(pool_size=2),\n",
        "        layers.LSTM(32, return_sequences=True),\n",
        "        layers.LSTM(16),\n",
        "        layers.Dense(32, activation='relu'),\n",
        "        layers.Dense(1, activation=\"tanh\")\n",
        "    ])\n",
        "}"
      ],
      "metadata": {
        "colab": {
          "base_uri": "https://localhost:8080/"
        },
        "id": "xwkTaF52oouf",
        "outputId": "6cd2a3df-7e9c-4d92-95dd-ee6adfd26c1b"
      },
      "execution_count": 112,
      "outputs": [
        {
          "output_type": "stream",
          "name": "stderr",
          "text": [
            "/usr/local/lib/python3.11/dist-packages/keras/src/layers/core/embedding.py:90: UserWarning: Argument `input_length` is deprecated. Just remove it.\n",
            "  warnings.warn(\n"
          ]
        }
      ]
    },
    {
      "cell_type": "code",
      "source": [
        "best_model = None\n",
        "best_mae = float(\"inf\")\n",
        "optimizers = [\"adam\", \"rmsprop\", \"sgd\"]"
      ],
      "metadata": {
        "id": "ZukZg5M13F3D"
      },
      "execution_count": 113,
      "outputs": []
    },
    {
      "cell_type": "code",
      "source": [
        "for idx, (name, model) in enumerate(models.items()):\n",
        "    model.compile(optimizer=optimizers[idx], loss=\"mse\", metrics=[\"mae\"])\n",
        "    print(f\"Training {name}...\")\n",
        "    model.fit(X_train, y_train, epochs=10, batch_size=16, validation_data=(X_val, y_val), verbose=1)\n",
        "    val_mae = model.evaluate(X_val, y_val, verbose=0)[1]\n",
        "    print(f\"Validation MAE for {name}: {val_mae}\")\n",
        "\n",
        "    if val_mae < best_mae:\n",
        "        best_mae = val_mae\n",
        "        best_model = model\n",
        "\n",
        "print(f\"Best model selected with Validation MAE: {best_mae}\")"
      ],
      "metadata": {
        "colab": {
          "base_uri": "https://localhost:8080/"
        },
        "id": "5oehIh-u3GX2",
        "outputId": "a1022684-b40b-403e-c16a-94d1c2a7fa1f"
      },
      "execution_count": 114,
      "outputs": [
        {
          "output_type": "stream",
          "name": "stdout",
          "text": [
            "Training model1...\n",
            "Epoch 1/10\n",
            "\u001b[1m1/1\u001b[0m \u001b[32m━━━━━━━━━━━━━━━━━━━━\u001b[0m\u001b[37m\u001b[0m \u001b[1m4s\u001b[0m 4s/step - loss: 0.6053 - mae: 0.7186 - val_loss: 0.0287 - val_mae: 0.1245\n",
            "Epoch 2/10\n",
            "\u001b[1m1/1\u001b[0m \u001b[32m━━━━━━━━━━━━━━━━━━━━\u001b[0m\u001b[37m\u001b[0m \u001b[1m0s\u001b[0m 233ms/step - loss: 0.5915 - mae: 0.7089 - val_loss: 0.0265 - val_mae: 0.1243\n",
            "Epoch 3/10\n",
            "\u001b[1m1/1\u001b[0m \u001b[32m━━━━━━━━━━━━━━━━━━━━\u001b[0m\u001b[37m\u001b[0m \u001b[1m0s\u001b[0m 75ms/step - loss: 0.5773 - mae: 0.6987 - val_loss: 0.0243 - val_mae: 0.1242\n",
            "Epoch 4/10\n",
            "\u001b[1m1/1\u001b[0m \u001b[32m━━━━━━━━━━━━━━━━━━━━\u001b[0m\u001b[37m\u001b[0m \u001b[1m0s\u001b[0m 78ms/step - loss: 0.5620 - mae: 0.6876 - val_loss: 0.0221 - val_mae: 0.1240\n",
            "Epoch 5/10\n",
            "\u001b[1m1/1\u001b[0m \u001b[32m━━━━━━━━━━━━━━━━━━━━\u001b[0m\u001b[37m\u001b[0m \u001b[1m0s\u001b[0m 147ms/step - loss: 0.5455 - mae: 0.6753 - val_loss: 0.0201 - val_mae: 0.1239\n",
            "Epoch 6/10\n",
            "\u001b[1m1/1\u001b[0m \u001b[32m━━━━━━━━━━━━━━━━━━━━\u001b[0m\u001b[37m\u001b[0m \u001b[1m0s\u001b[0m 195ms/step - loss: 0.5274 - mae: 0.6617 - val_loss: 0.0183 - val_mae: 0.1238\n",
            "Epoch 7/10\n",
            "\u001b[1m1/1\u001b[0m \u001b[32m━━━━━━━━━━━━━━━━━━━━\u001b[0m\u001b[37m\u001b[0m \u001b[1m0s\u001b[0m 107ms/step - loss: 0.5076 - mae: 0.6464 - val_loss: 0.0168 - val_mae: 0.1237\n",
            "Epoch 8/10\n",
            "\u001b[1m1/1\u001b[0m \u001b[32m━━━━━━━━━━━━━━━━━━━━\u001b[0m\u001b[37m\u001b[0m \u001b[1m0s\u001b[0m 95ms/step - loss: 0.4860 - mae: 0.6294 - val_loss: 0.0157 - val_mae: 0.1236\n",
            "Epoch 9/10\n",
            "\u001b[1m1/1\u001b[0m \u001b[32m━━━━━━━━━━━━━━━━━━━━\u001b[0m\u001b[37m\u001b[0m \u001b[1m0s\u001b[0m 147ms/step - loss: 0.4625 - mae: 0.6102 - val_loss: 0.0153 - val_mae: 0.1235\n",
            "Epoch 10/10\n",
            "\u001b[1m1/1\u001b[0m \u001b[32m━━━━━━━━━━━━━━━━━━━━\u001b[0m\u001b[37m\u001b[0m \u001b[1m0s\u001b[0m 130ms/step - loss: 0.4370 - mae: 0.5887 - val_loss: 0.0157 - val_mae: 0.1235\n",
            "Validation MAE for model1: 0.12346720695495605\n",
            "Training model2...\n",
            "Epoch 1/10\n",
            "\u001b[1m1/1\u001b[0m \u001b[32m━━━━━━━━━━━━━━━━━━━━\u001b[0m\u001b[37m\u001b[0m \u001b[1m6s\u001b[0m 6s/step - loss: 0.6054 - mae: 0.7186 - val_loss: 0.0218 - val_mae: 0.1249\n",
            "Epoch 2/10\n",
            "\u001b[1m1/1\u001b[0m \u001b[32m━━━━━━━━━━━━━━━━━━━━\u001b[0m\u001b[37m\u001b[0m \u001b[1m0s\u001b[0m 92ms/step - loss: 0.5416 - mae: 0.6728 - val_loss: 0.0160 - val_mae: 0.1250\n",
            "Epoch 3/10\n",
            "\u001b[1m1/1\u001b[0m \u001b[32m━━━━━━━━━━━━━━━━━━━━\u001b[0m\u001b[37m\u001b[0m \u001b[1m0s\u001b[0m 139ms/step - loss: 0.4654 - mae: 0.6135 - val_loss: 0.0176 - val_mae: 0.1250\n",
            "Epoch 4/10\n",
            "\u001b[1m1/1\u001b[0m \u001b[32m━━━━━━━━━━━━━━━━━━━━\u001b[0m\u001b[37m\u001b[0m \u001b[1m0s\u001b[0m 138ms/step - loss: 0.3904 - mae: 0.5604 - val_loss: 0.0314 - val_mae: 0.1258\n",
            "Epoch 5/10\n",
            "\u001b[1m1/1\u001b[0m \u001b[32m━━━━━━━━━━━━━━━━━━━━\u001b[0m\u001b[37m\u001b[0m \u001b[1m0s\u001b[0m 87ms/step - loss: 0.3078 - mae: 0.4994 - val_loss: 0.0654 - val_mae: 0.2230\n",
            "Epoch 6/10\n",
            "\u001b[1m1/1\u001b[0m \u001b[32m━━━━━━━━━━━━━━━━━━━━\u001b[0m\u001b[37m\u001b[0m \u001b[1m0s\u001b[0m 74ms/step - loss: 0.2262 - mae: 0.4263 - val_loss: 0.1256 - val_mae: 0.3317\n",
            "Epoch 7/10\n",
            "\u001b[1m1/1\u001b[0m \u001b[32m━━━━━━━━━━━━━━━━━━━━\u001b[0m\u001b[37m\u001b[0m \u001b[1m0s\u001b[0m 122ms/step - loss: 0.1574 - mae: 0.3447 - val_loss: 0.2015 - val_mae: 0.4311\n",
            "Epoch 8/10\n",
            "\u001b[1m1/1\u001b[0m \u001b[32m━━━━━━━━━━━━━━━━━━━━\u001b[0m\u001b[37m\u001b[0m \u001b[1m0s\u001b[0m 98ms/step - loss: 0.1153 - mae: 0.2985 - val_loss: 0.2677 - val_mae: 0.5021\n",
            "Epoch 9/10\n",
            "\u001b[1m1/1\u001b[0m \u001b[32m━━━━━━━━━━━━━━━━━━━━\u001b[0m\u001b[37m\u001b[0m \u001b[1m0s\u001b[0m 82ms/step - loss: 0.0973 - mae: 0.2806 - val_loss: 0.3144 - val_mae: 0.5466\n",
            "Epoch 10/10\n",
            "\u001b[1m1/1\u001b[0m \u001b[32m━━━━━━━━━━━━━━━━━━━━\u001b[0m\u001b[37m\u001b[0m \u001b[1m0s\u001b[0m 143ms/step - loss: 0.0911 - mae: 0.2694 - val_loss: 0.3404 - val_mae: 0.5698\n",
            "Validation MAE for model2: 0.5698398351669312\n",
            "Training model3...\n",
            "Epoch 1/10\n",
            "\u001b[1m1/1\u001b[0m \u001b[32m━━━━━━━━━━━━━━━━━━━━\u001b[0m\u001b[37m\u001b[0m \u001b[1m3s\u001b[0m 3s/step - loss: 0.6048 - mae: 0.7182 - val_loss: 0.0256 - val_mae: 0.1250\n",
            "Epoch 2/10\n",
            "\u001b[1m1/1\u001b[0m \u001b[32m━━━━━━━━━━━━━━━━━━━━\u001b[0m\u001b[37m\u001b[0m \u001b[1m0s\u001b[0m 70ms/step - loss: 0.5698 - mae: 0.6934 - val_loss: 0.0199 - val_mae: 0.1250\n",
            "Epoch 3/10\n",
            "\u001b[1m1/1\u001b[0m \u001b[32m━━━━━━━━━━━━━━━━━━━━\u001b[0m\u001b[37m\u001b[0m \u001b[1m0s\u001b[0m 76ms/step - loss: 0.5234 - mae: 0.6591 - val_loss: 0.0166 - val_mae: 0.1250\n",
            "Epoch 4/10\n",
            "\u001b[1m1/1\u001b[0m \u001b[32m━━━━━━━━━━━━━━━━━━━━\u001b[0m\u001b[37m\u001b[0m \u001b[1m0s\u001b[0m 143ms/step - loss: 0.4798 - mae: 0.6252 - val_loss: 0.0156 - val_mae: 0.1250\n",
            "Epoch 5/10\n",
            "\u001b[1m1/1\u001b[0m \u001b[32m━━━━━━━━━━━━━━━━━━━━\u001b[0m\u001b[37m\u001b[0m \u001b[1m0s\u001b[0m 147ms/step - loss: 0.4409 - mae: 0.5935 - val_loss: 0.0166 - val_mae: 0.1250\n",
            "Epoch 6/10\n",
            "\u001b[1m1/1\u001b[0m \u001b[32m━━━━━━━━━━━━━━━━━━━━\u001b[0m\u001b[37m\u001b[0m \u001b[1m0s\u001b[0m 149ms/step - loss: 0.4053 - mae: 0.5704 - val_loss: 0.0193 - val_mae: 0.1250\n",
            "Epoch 7/10\n",
            "\u001b[1m1/1\u001b[0m \u001b[32m━━━━━━━━━━━━━━━━━━━━\u001b[0m\u001b[37m\u001b[0m \u001b[1m0s\u001b[0m 100ms/step - loss: 0.3730 - mae: 0.5483 - val_loss: 0.0233 - val_mae: 0.1250\n",
            "Epoch 8/10\n",
            "\u001b[1m1/1\u001b[0m \u001b[32m━━━━━━━━━━━━━━━━━━━━\u001b[0m\u001b[37m\u001b[0m \u001b[1m0s\u001b[0m 133ms/step - loss: 0.3451 - mae: 0.5281 - val_loss: 0.0284 - val_mae: 0.1251\n",
            "Epoch 9/10\n",
            "\u001b[1m1/1\u001b[0m \u001b[32m━━━━━━━━━━━━━━━━━━━━\u001b[0m\u001b[37m\u001b[0m \u001b[1m0s\u001b[0m 134ms/step - loss: 0.3200 - mae: 0.5091 - val_loss: 0.0342 - val_mae: 0.1364\n",
            "Epoch 10/10\n",
            "\u001b[1m1/1\u001b[0m \u001b[32m━━━━━━━━━━━━━━━━━━━━\u001b[0m\u001b[37m\u001b[0m \u001b[1m0s\u001b[0m 78ms/step - loss: 0.2979 - mae: 0.4914 - val_loss: 0.0407 - val_mae: 0.1582\n",
            "Validation MAE for model3: 0.15818926692008972\n",
            "Best model selected with Validation MAE: 0.12346720695495605\n"
          ]
        }
      ]
    },
    {
      "cell_type": "code",
      "source": [
        "predictions = best_model.predict(X_test_padded)\n",
        "predictions = (predictions * 4) + 1  # Convert back to range [1,5]\n",
        "\n",
        "submission = pd.DataFrame({\"review\": test_df[\"review\"], \"rating\": predictions.flatten()})\n",
        "submission.to_csv(\"submission.csv\", index=False)\n",
        "print(\"Submission file generated: submission.csv\")"
      ],
      "metadata": {
        "colab": {
          "base_uri": "https://localhost:8080/"
        },
        "id": "vFTfH-1C3JV2",
        "outputId": "4e25657f-1b1d-4348-f95d-a761e9b11591"
      },
      "execution_count": 115,
      "outputs": [
        {
          "output_type": "stream",
          "name": "stdout",
          "text": [
            "\u001b[1m1/1\u001b[0m \u001b[32m━━━━━━━━━━━━━━━━━━━━\u001b[0m\u001b[37m\u001b[0m \u001b[1m0s\u001b[0m 407ms/step\n",
            "Submission file generated: submission.csv\n"
          ]
        }
      ]
    },
    {
      "cell_type": "code",
      "source": [],
      "metadata": {
        "id": "88DATRaI3RTT"
      },
      "execution_count": null,
      "outputs": []
    }
  ],
  "metadata": {
    "kernelspec": {
      "display_name": ".venv",
      "language": "python",
      "name": "python3"
    },
    "language_info": {
      "codemirror_mode": {
        "name": "ipython",
        "version": 3
      },
      "file_extension": ".py",
      "mimetype": "text/x-python",
      "name": "python",
      "nbconvert_exporter": "python",
      "pygments_lexer": "ipython3",
      "version": "3.13.1"
    },
    "colab": {
      "provenance": [],
      "include_colab_link": true
    }
  },
  "nbformat": 4,
  "nbformat_minor": 0
}